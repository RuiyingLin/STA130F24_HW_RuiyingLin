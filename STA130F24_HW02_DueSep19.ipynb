{
 "cells": [
  {
   "cell_type": "markdown",
   "id": "14b74968",
   "metadata": {},
   "source": [
    "## STA130 Homework 02\n",
    "\n",
    "Please see the course [wiki-textbook](https://github.com/pointOfive/stat130chat130/wiki) for the list of topics covered in this homework assignment, and a list of topics that might appear during ChatBot conversations which are \"out of scope\" for the purposes of this homework assignment (and hence can be safely ignored if encountered)"
   ]
  },
  {
   "cell_type": "markdown",
   "id": "f014006ff8809433",
   "metadata": {},
   "source": [
    "<details class=\"details-example\"><summary style=\"color:blue\"><u>Introduction</u></summary>\n",
    "\n",
    "### Introduction\n",
    "    \n",
    "A reasonable characterization of STA130 Homework is that it simply defines a weekly reading comprehension assignment. \n",
    "Indeed, STA130 Homework essentially boils down to completing various understanding confirmation exercises oriented around coding and writing tasks.\n",
    "However, rather than reading a textbook, STA130 Homework is based on ChatBots so students can interactively follow up to clarify questions or confusion that they may still have regarding learning objective assignments.\n",
    "\n",
    "> Communication is a fundamental skill underlying statistics and data science, so STA130 Homework based on ChatBots helps practice effective two-way communication as part of a \"realistic\" dialogue activity supporting underlying conceptual understanding building. \n",
    "\n",
    "It will likely become increasingly tempting to rely on ChatBots to \"do the work for you\". But when you find yourself frustrated with a ChatBots inability to give you the results you're looking for, this is a \"hint\" that you've become overreliant on the ChatBots. Your objective should not be to have ChatBots \"do the work for you\", but to use ChatBots to help you build your understanding so you can efficiently leverage ChatBots (and other resources) to help you work more efficiently.<br><br>\n",
    "\n",
    "</details>\n",
    "\n",
    "<details class=\"details-example\"><summary style=\"color:blue\"><u>Instructions</u></summary>\n",
    "\n",
    "### Instructions\n",
    "    \n",
    "1. Code and write all your answers (for both the \"Prelecture\" and \"Postlecture\" HW) in a python notebook (in code and markdown cells) \n",
    "    \n",
    "> It is *suggested but not mandatory* that you complete the \"Prelecture\" HW prior to the Monday LEC since (a) all HW is due at the same time; but, (b) completing some of the HW early will mean better readiness for LEC and less of a \"procrastentation cruch\" towards the end of the week...\n",
    "    \n",
    "2. Paste summaries of your ChatBot sessions (including link(s) to chat log histories if you're using ChatGPT) within your notebook\n",
    "    \n",
    "> Create summaries of your ChatBot sessions by using concluding prompts such as \"Please provide a summary of our exchanges here so I can submit them as a record of our interactions as part of a homework assignment\" or, \"Please provide me with the final working verson of the code that we created together\"\n",
    "    \n",
    "3. Save your python jupyter notebook in your own account and \"repo\" on [github.com](github.com) and submit a link to that notebook though Quercus for assignment marking<br><br>\n",
    "\n",
    "</details>\n",
    "\n",
    "<details class=\"details-example\"><summary style=\"color:blue\"><u>Prompt Engineering?</u></summary>\n",
    "    \n",
    "### Prompt Engineering? \n",
    "    \n",
    "The questions (as copy-pasted prompts) are designed to initialize appropriate ChatBot conversations which can be explored in the manner of an interactive and dynamic textbook; but, it is nonetheless **strongly recommendated** that your rephrase the questions in a way that you find natural to ensure a clear understanding of the question. Given sensible prompts the represent a question well, the two primary challenges observed to arise from ChatBots are \n",
    "\n",
    "1. conversations going beyond the intended scope of the material addressed by the question; and, \n",
    "2. unrecoverable confusion as a result of sequential layers logial inquiry that cannot be resolved. \n",
    "\n",
    "In the case of the former (1), adding constraints specifying the limits of considerations of interest tends to be helpful; whereas, the latter (2) is often the result of initial prompting that leads to poor developments in navigating the material, which are likely just best resolve by a \"hard reset\" with a new initial approach to prompting.  Indeed, this is exactly the behavior [hardcoded into copilot](https://answers.microsoft.com/en-us/bing/forum/all/is-this-even-normal/0b6dcab3-7d6c-4373-8efe-d74158af3c00)...\n",
    "\n",
    "</details>"
   ]
  },
  {
   "cell_type": "markdown",
   "id": "161fd459",
   "metadata": {},
   "source": [
    "\n",
    "### Marking Rubric (which may award partial credit) \n",
    "\n",
    "- [0.1 points]: All relevant ChatBot summaries [including link(s) to chat log histories if you're using ChatGPT] are reported within the notebook\n",
    "- [0.3 points]: Assignment completion confirmed by working \"final\" code and ChatBot summaries for \"3\"\n",
    "- [0.3 points]: Written submission evaluation and enagement confirmation with ChatBot summaries for \"6\"\n",
    "- [0.3 points]: Evaluation of engagement and evaluation of written communication in \"7\"\n",
    "        "
   ]
  },
  {
   "cell_type": "markdown",
   "id": "f7ff3f55",
   "metadata": {},
   "source": [
    "### \"Pre-lecture\" HW [*completion prior to next LEC is suggested but not mandatory*]"
   ]
  },
  {
   "cell_type": "markdown",
   "id": "fda8568b",
   "metadata": {},
   "source": [
    "#### 1. Begin (or restart) part \"3(a)\" of the **TUT Demo** and interact with a ChatBot to make sure you understand how each part the Monte Hall problem code above works<br>\n",
    "\n",
    "<details class=\"details-example\"><summary style=\"color:blue\"><u>Further Guidance</u></summary>\n",
    "    \n",
    "> _ChatBots typically explain code fairly effectively, so a ChatBot will probably be very helpful if you share the full Monte Hall problem code; but, you can always introduce more specific and targetted follow-up prompts that help with focus, re-redirection, and response format regarding the ChatBot responses as needed._ \n",
    ">\n",
    "> _ChatBots won't always re-introduce and re-explain the Monte Hall problem itself, so if you need it to do so you may need to specifically request this as part of your prompt or follow up interactions._\n",
    "\n",
    "</details>\n"
   ]
  },
  {
   "cell_type": "markdown",
   "id": "6cd79d0c",
   "metadata": {},
   "source": [
    "I have fully understood how the Monte Hall problem code provided by TUT works.\n",
    "\n",
    "First, we construct several variables. all_door_options contains all potential options. my_door_choice is the first choice I made, here we set it to always be equal to the first option. i_won is a variable that iterates with the number of simulations. It is 0 at the beginning and increases by 1 every time it wins during the simulation. reps is the number of simulations we set. The more simulations we make, the closer the result is to the real result.\n",
    "\n",
    "We then use a For loop to iterate, and in each iteration we randomly select one from all_door_options as secret_winning_door. At the same time, we create the all_door_options_list variable, remove secret_winning_door and my_door_choice from all_door_options_list. After that, we randomly select one from remaining options as goat_door_reveal and then remove it from all_door_options_list.\n",
    "\n",
    "If my_door_choice and secret_winning_door are the same, then the only option left in all_door_options_list is the option I want to switch to. We set my_door_choice equal to all_door_options_list[0] to make a second choice.\n",
    "\n",
    "If my_door_choice and secret_winning_door are different, then all_door_options_list is already an empty set, so we need to add secret_winning_door back to all_door_options_list. Then, let my_door_choice be equal to all_door_options_list[0] to make a second choice.\n",
    "\n",
    "Finally, we check if my_door_choice after making the second choice is equal to the choice of secret_winning_door, if so then the number of i_won is increased by 1. i_won iterates with the number of simulations. When the last simulation is completed, i_won shows the total number of wins in all simulations. Dividing this value by the total number of simulations is the probability of winning we want."
   ]
  },
  {
   "cell_type": "markdown",
   "id": "3ca6454f",
   "metadata": {},
   "source": [
    "### ChatBot summaries\n",
    "Shown in Question 3."
   ]
  },
  {
   "cell_type": "markdown",
   "id": "11581881",
   "metadata": {},
   "source": [
    "#### 2. Extend your ChatBot sessions to now address part \"3(b)\" of the **TUT Demo** and interact with your ChatBot to see if it can suggest a simpler, more streamlined way to code up this *for* loop simulation so the process is more clear and easier to understand; then, describe any preferences you have in terms of readibility or explainability  between the original code and the code improvements suggested by the ChatBot<br>\n",
    "\n",
    "<details class=\"details-example\"><summary style=\"color:blue\"><u>Further Guidance</u></summary>\n",
    "    \n",
    "> _The links in the TUT Demo show that there can be variation in the quality of the code improvements suggested by ChatBots; however, it's most likely that a ChatBot is going to be able to greatly reduce the number of steps/lines of code and hence complexity of understanding the problem. ChatBots can provide a good amount of explanation and inline clarifying code comments and provide more simpler more intuitive code that can transform something that looks a bit scary at first to something that's easy to follow and make sense of. Of course, in doing so, a ChatBot may introduce functions that you've technically not learned or seen before; but, the amount of simplification and clarifying comments is probably going to more than compensate for this; and, you'll have seen a learned a little bit more about what's possible through this process, which is the ideal experience we're hoping you'll see here._ \n",
    "    \n",
    "</details>\n",
    "        "
   ]
  },
  {
   "cell_type": "markdown",
   "id": "57b5f820",
   "metadata": {},
   "source": [
    "I asked ChatGPT to provide me two different versions of simplified codes. In my opinion, they are both better than the original codes, either with clearer logic or more concise codes."
   ]
  },
  {
   "cell_type": "markdown",
   "id": "80ba2518",
   "metadata": {},
   "source": [
    "#### First Simplified Version"
   ]
  },
  {
   "cell_type": "code",
   "execution_count": 3,
   "id": "987bbbf2",
   "metadata": {},
   "outputs": [
    {
     "name": "stdout",
     "output_type": "stream",
     "text": [
      "0.66641\n"
     ]
    }
   ],
   "source": [
    "import numpy as np\n",
    "\n",
    "# Set parameters\n",
    "all_doors = [1, 2, 3]  # Available doors\n",
    "initial_choice = 1  # Player always initially chooses door 1\n",
    "wins = 0  # Counter for wins\n",
    "reps = 100000  # Number of simulations\n",
    "\n",
    "for _ in range(reps):\n",
    "    # Randomly choose which door hides the prize\n",
    "    winning_door = np.random.choice(all_doors)\n",
    "    \n",
    "    # Monty reveals a door that is not the player's initial choice or the winning door\n",
    "    remaining_doors = [door for door in all_doors if door != initial_choice and door != winning_door]\n",
    "    revealed_door = np.random.choice(remaining_doors)\n",
    "\n",
    "    # The player's new choice after switching: the only remaining door\n",
    "    switch_choice = [door for door in all_doors if door != initial_choice and door != revealed_door][0]\n",
    "\n",
    "    # Check if the new door (after switching) is the winning door\n",
    "    if switch_choice == winning_door:\n",
    "        wins += 1\n",
    "\n",
    "# Calculate the probability of winning by switching\n",
    "win_probability = wins / reps\n",
    "print(win_probability)"
   ]
  },
  {
   "cell_type": "markdown",
   "id": "44891b83",
   "metadata": {},
   "source": [
    "In this version of the code, the selection of remaining_doors and switch_choice are more concise and direct. They directly filter out the unwanted parts from the original all_doors. remaining_doors directly filters out the options of initial_choice and winning_door from all_doors. switch_choice directly filters out the options of initial_choice and revealed_door from all_doors.\n",
    "\n",
    "This eliminates the cumbersome process of continuously adding and deleting the all_door_options_list variable in the original code. It also eliminates the need to use additional IF statements to ensure that all_door_options_list is not empty during second choice."
   ]
  },
  {
   "cell_type": "markdown",
   "id": "44b4ddc9",
   "metadata": {},
   "source": [
    "#### Second Simplified Version"
   ]
  },
  {
   "cell_type": "code",
   "execution_count": 2,
   "id": "68a12c83",
   "metadata": {},
   "outputs": [
    {
     "name": "stdout",
     "output_type": "stream",
     "text": [
      "0.66607\n"
     ]
    }
   ],
   "source": [
    "# Set parameters\n",
    "reps = 100000  # Number of simulations\n",
    "wins = 0  # Counter for wins\n",
    "\n",
    "for _ in range(reps):\n",
    "    # Randomly assign a winning door (1, 2, or 3)\n",
    "    winning_door = np.random.choice([1, 2, 3])\n",
    "    \n",
    "    # Player always initially chooses door 1\n",
    "    initial_choice = 1\n",
    "    \n",
    "    # Monty reveals a losing door (either 2 or 3, whichever is not the winning door and not the player's choice)\n",
    "    if winning_door == 1:\n",
    "        # If the winning door is 1 (player's choice), Monty randomly reveals door 2 or 3\n",
    "        revealed_door = np.random.choice([2, 3])\n",
    "    else:\n",
    "        # Otherwise, Monty reveals the only other losing door (not player's choice, not winning door)\n",
    "        revealed_door = 6 - initial_choice - winning_door  # Simple trick to get the remaining door\n",
    "\n",
    "    # Player switches to the other remaining door\n",
    "    switched_choice = 6 - initial_choice - revealed_door  # This gives the remaining door\n",
    "\n",
    "    # Check if the switched choice is the winning door\n",
    "    if switched_choice == winning_door:\n",
    "        wins += 1\n",
    "\n",
    "# Calculate and print the probability of winning by switching\n",
    "win_probability = wins / reps\n",
    "print(win_probability)"
   ]
  },
  {
   "cell_type": "markdown",
   "id": "88999ab4",
   "metadata": {},
   "source": [
    "In this version of the code, the code is more concise. However, since it is too concise, its logic is not easy to understand and read as the first simplified version. \n",
    "\n",
    "This solution does not even need to construct the remaining_doors variable. ChatGPT uses a more clever method 6 - initial_choice - revealed_door to construct the switched_choice variable. However, its logical readability is weaker than [door for door in all_doors if door != initial_choice and door != revealed_door][0]."
   ]
  },
  {
   "cell_type": "markdown",
   "id": "5dab8284",
   "metadata": {},
   "source": [
    "### ChatBot summaries\n",
    "Shown in Question 3."
   ]
  },
  {
   "cell_type": "markdown",
   "id": "f3fdebd8",
   "metadata": {},
   "source": [
    "#### 3. Submit your preferred version of the Monty Hall problem that is verified to be running and working with a final printed output of the code; then, add code comments explaining the purpose of each line of the code<br>\n",
    "\n",
    "<details class=\"details-example\"><summary style=\"color:blue\"><u>Further Guidance</u></summary>\n",
    "    \n",
    "> _Your ChatBot will likely do much of this for you, but verify for yourself that you understand each comment and reword comments wherever you think it would be better to explain it differently._\n",
    ">\n",
    "> _Remember to ask for summaries of your current session and paste these into your homework notebook  (including link(s) to chat log histories if you're using ChatGPT)_\n",
    "\n",
    "</details>\n",
    " "
   ]
  },
  {
   "cell_type": "code",
   "execution_count": 1,
   "id": "6df01a60",
   "metadata": {},
   "outputs": [
    {
     "name": "stdout",
     "output_type": "stream",
     "text": [
      "0.66878\n"
     ]
    }
   ],
   "source": [
    "import numpy as np\n",
    "\n",
    "# Set parameters\n",
    "all_doors = [1, 2, 3]  # List of available doors to choose from\n",
    "initial_choice = 1   # Player always initially chooses door 1\n",
    "wins = 0  # Counter for the number of times the player wins\n",
    "reps = 100000  # Set the number of simulations\n",
    "\n",
    "# Start the iteration of our simulations using for loop\n",
    "for i in range(reps):\n",
    "    # Randomly choose which door hides the car\n",
    "    winning_door = np.random.choice(all_doors)\n",
    "    \n",
    "    # Find the door or doors that is not the player's initial choice or the winning door\n",
    "    remaining_doors = [door for door in all_doors if door != initial_choice and door != winning_door]\n",
    "    \n",
    "    #Randomly revealed a door from the remaining doors\n",
    "    revealed_door = np.random.choice(remaining_doors)\n",
    "\n",
    "    # The player's new choice after switching: the only remaining door\n",
    "    switch_choice = [door for door in all_doors if door != initial_choice and door != revealed_door][0]\n",
    "\n",
    "    # Check if the new door (after switching) is the winning door\n",
    "    if switch_choice == winning_door:\n",
    "        wins += 1\n",
    "\n",
    "# Calculate the probability of winning by switching\n",
    "win_probability = wins / reps\n",
    "\n",
    "# Disply the win_probability\n",
    "print(win_probability)"
   ]
  },
  {
   "cell_type": "markdown",
   "id": "c02399f5",
   "metadata": {},
   "source": [
    "### ChatBot summaries\n",
    "link: https://chatgpt.com/share/66ebf4d9-4980-8006-8767-7ce4aa8ca7ea\n",
    "\n",
    "Summary of Monty Hall Simulation Discussion\n",
    "\n",
    "Initial Code Explanation:\n",
    "\n",
    "You provided a Monty Hall simulation code that uses 100,000 repetitions to test the probability of winning by switching doors.\n",
    "I explained the logic of the code, breaking down each part, including:\n",
    "How the winning door is randomly selected.\n",
    "The process of Monty revealing a losing door.\n",
    "The player switching doors and checking if they won.\n",
    "I also clarified the probability theory behind the Monty Hall problem, where switching doors leads to a higher chance of winning (approximately 66.67%).\n",
    "\n",
    "Explanation of try, except, pass:\n",
    "\n",
    "We discussed the use of the try, except, pass block in your original code.\n",
    "I explained that the code attempts to remove the player’s initial door choice but handles the case where it’s already removed (because it might be the winning door).\n",
    "I detailed how try attempts an action, except catches any error (like trying to remove an item not in the list), and pass allows the program to continue without interruption.\n",
    "\n",
    "Streamlined Version of the Code:\n",
    "\n",
    "I suggested an improved version of the simulation code, making it more readable and avoiding the need for try-except.\n",
    "The new version used list comprehensions to simplify door selection and switching strategies, making the logic easier to follow and understand.\n",
    "\n",
    "Further Simplification:\n",
    "\n",
    "At your request, I provided an even simpler version of the simulation.\n",
    "This version fixed the player’s initial door choice and used a mathematical trick (sum of door numbers equals 6) to select Monty’s revealed door and the player’s switched door.\n",
    "The simplified version required fewer lines of code and operations, while still yielding the same result.\n",
    "\n",
    "Overall Explanation:\n",
    "\n",
    "Throughout our discussion, I emphasized clarity and simplification in explaining both the Monty Hall problem and the Python code used to simulate it.\n",
    "The final version of the code effectively demonstrated how switching doors leads to a higher probability of winning, while being simple enough to easily explain and follow."
   ]
  },
  {
   "cell_type": "markdown",
   "id": "8ba3ff01",
   "metadata": {},
   "source": [
    "#### 4. Watch the embedded video tutorial on Markov chains in the next Jupyter cell below to understand their application and relevance for ChatBots; then, after watching the video, start a new ChatBot session by prompting that you have code that creates a \"Markovian ChatBot\"; show it the first version of the \"Markovian ChatBot code\" below; and interact with the ChatBot session to make sure you understand how the original first version of the \"Markovian ChatBot code\" works<br>\n",
    "\n",
    "<details class=\"details-example\"><summary style=\"color:blue\"><u>Further Guidance</u></summary>\n",
    "\n",
    "> _If the ChatBot prompts you as to how you will \"train\" your own \"Markovian ChatBot\" you can reply that you'll just use a series of stories with a lot of different characters_\n",
    "> \n",
    "> _Ask for summaries of this second ChatBot session and paste these into your homework notebook (including link(s) to chat log histories if you're using ChatGPT)_\n",
    "    \n",
    "</details>\n",
    "    "
   ]
  },
  {
   "cell_type": "code",
   "execution_count": 2,
   "id": "a52754504a625b36",
   "metadata": {},
   "outputs": [
    {
     "data": {
      "image/jpeg": "[encoded data removed]",
      "text/html": [
       "\n",
       "        <iframe\n",
       "            width=\"550\"\n",
       "            height=\"300\"\n",
       "            src=\"https://www.youtube.com/embed/56mGTszb_iM\"\n",
       "            frameborder=\"0\"\n",
       "            allowfullscreen\n",
       "            \n",
       "        ></iframe>\n",
       "        "
      ],
      "text/plain": [
       "<IPython.lib.display.YouTubeVideo at 0x7f79da10e590>"
      ]
     },
     "execution_count": 2,
     "metadata": {},
     "output_type": "execute_result"
    }
   ],
   "source": [
    "# Markov Chains and Text Generation\n",
    "from IPython.display import YouTubeVideo\n",
    "YouTubeVideo('56mGTszb_iM', width = 550)"
   ]
  },
  {
   "cell_type": "markdown",
   "id": "613095cf",
   "metadata": {},
   "source": [
    "I have fully understood how the Markovian ChatBot code works.\n",
    "\n",
    "Firstly, two variables, word_used and next_word, are constructed. One maps each word to the number of times it appears, and the other maps each word to the next word to its frequency of occurrence immediately following the first word.\n",
    "\n",
    "Then use the For loop to iterate through all the words except the last word. The reason for excluding the last word is that there is no next word after the last word in the list.\n",
    "\n",
    "If the word has appeared before, its frequency in word_used is increased by 1. If it has not appeared before, its frequency is set to 1 in word_used and the next_word of the it is set to an empty set.\n",
    "\n",
    "Next, we perform similar processing on next_word. If the word has appeared before in next_word[word], its frequency is increased by 1 in next_word[word]. If it has not appeared before, its frequency is set to 1 in next_word[word].\n",
    "\n",
    "Finally, with all the words iterated over, we have the word frequency table for building the Markovian ChatBot."
   ]
  },
  {
   "cell_type": "markdown",
   "id": "cab735fb",
   "metadata": {},
   "source": [
    "### ChatBot summaries\n",
    "link: https://chatgpt.com/share/66ecd52a-4a10-8006-b15f-a195daa86d61\n",
    "\n",
    "Code Submission: \n",
    "\n",
    "You provided a segment of Python code intended for a Markovian ChatBot, which included dictionary initializations and loops to count word occurrences and transitions between consecutive words.\n",
    "\n",
    "Explanation Request: \n",
    "\n",
    "You requested a step-by-step explanation of the provided code.\n",
    "\n",
    "Code Explanation:\n",
    "\n",
    "    Dictionary Initialization: I explained that the code initializes two dictionaries, word_used and next_word, to keep track of the frequency of each word and the frequency of each word following another word, respectively.\n",
    "    \n",
    "    Loop Through Words: The code uses a loop to iterate through the word list, excluding the last word, to ensure every word has a subsequent word to pair with for the Markov model.\n",
    "    \n",
    "    Counting Word Occurrences: Inside the loop, the code checks if a word is already counted; if not, it initializes the count and sets up the dictionary for tracking subsequent words.\n",
    "    \n",
    "    Counting Next Word Occurrences: For each word, the code also counts how frequently another word follows it, setting up the basis for generating text based on the likelihood of word sequences.\n",
    "\n",
    "Overall Functionality Description: \n",
    "\n",
    "I described how the code sets up a Markov model by calculating the transition probabilities from each word to its successive word. This setup allows the chatbot to generate sentences by predicting the next most likely word, creating conversation flows that mimic the input text’s structure."
   ]
  },
  {
   "cell_type": "markdown",
   "id": "7a17e608",
   "metadata": {},
   "source": [
    "<details class=\"details-example\"><summary style=\"color:blue\"><u>Continue now...?</u></summary>\n",
    "\n",
    "### Pre-lecture VS Post-lecture HW\n",
    "\n",
    "Feel free to work on the \"Post-lecture\" HW below if you're making good progress and want to continue: for **HW 02** continuing could be reasonable because questions \"5-7\" below directly follow up and extend \"Pre-lecture\" HW question \"4\"\n",
    "\n",
    "*The benefits of continue would are that (a) it might be fun to try to tackle the challenge of working through some problems without additional preparation or guidance; and (b) this is a very valable skill to be comfortable with; and (c) it will let you build experience interacting with ChatBots (and beginning to understand their strengths and limitations in this regard)... it's good to have sense of when using a ChatBot is the best way to figure something out, or if another approach (such as course provided resources or a plain old websearch for the right resourse) would be more effective*\n",
    "    \n",
    "</details>    "
   ]
  },
  {
   "cell_type": "markdown",
   "id": "d6ae0a64",
   "metadata": {},
   "source": [
    "### \"Post-lecture\" HW [*submission along with \"Pre-lecture\" HW is due prior to next TUT*]"
   ]
  },
  {
   "cell_type": "markdown",
   "id": "a3979c94",
   "metadata": {},
   "source": [
    "#### 5. Recreate (or resume) the previous ChatBot session from question \"4\" above, and now  prompt the ChatBot session that you have a couple extensions of the code to show it, and then show it each of the extentions of the \"Markovian ChatBot code\" below in turn\n",
    "\n",
    "\n",
    "\n",
    "1. Without just supplying your ChatBot session with the answers, see if the ChatBot can figure out what the extensions in the code do; namely, making character specific Markov chains, and using bigrams (rather than just the previous word alone) dependency... prompt your ChatBot session with some hints if it's not seeming to \"get it\"<br><br>\n",
    "    \n",
    "2. Interact with your ChatBot session to have it explain details of the code wherever you need help understanding what the code is doing and how it works<br><br>\n",
    "    \n",
    "3. Start yet another new ChatBot session and first show the ChatBot the original \"Markovian ChatBot code\" below, and then tell ChatBot that you have an extension but this time just directly provide it the more complicated final extension without ever providing the intermediate extension code to the ChatBot session and see if it's still able to understand everything extension does; namely, making character specific Markov chains, and using bigrams (rather than just the previous word alone) dependency... prompt the ChatBot with some hints if it's not seeming to understand what you're getting at...<br><br>\n",
    "    \n",
    "<details class=\"details-example\"><summary style=\"color:blue\"><u>Further Guidance</u></summary>\n",
    "\n",
    "> **ALERT: Time Warning**. Regarding the comments below (which will likely be relevant and useful for you), you might find the potential learning experience that this provides to be a quite the rabbit total rabbit hole and time sink. You might end up finding out that you spent way more time than I should on learning the code!! So be mindful of your time management as there is much to do for many classes!\n",
    ">    \n",
    "> _As you may or may not have already experienced in the previous problem, a ChatBot applied to this problem is likely to start explaining a bit more knowledge about Python than you need to know (as a student just trying to learn stats+DS); however, you'll probably feel like this \"out of scope\" context information is helpful to know (or at least be aware of) and easy to understand and learn if you use some addtional prompts to dig deeper into them. A ChatBot will be quite good at explaining and helping understand smaller chunks of code; however, if given too much information at once it can gloss over some information._\n",
    ">   \n",
    "> _That said, some topics here are potentially quite and advanced and too tricky! You might be able to ask the ChatBot to simplify its explanations and that might help a bit. But on the other hand, some topics, such as, \"how does `nested_dict = lambda: defaultdict(nested_dict)` work?\" might just simply be too advanced to really admit a simpler explanation via a ChatBot. You'll have to let these sorts of things go, if you come across explanations that just aren't improving or helping at at. In the case of `defaultdict(nested_dict)` specifically, the details here are well beyond the scope of STA130 and can be very safely ignored for now. The code will have reviewed and \"walked thorugh\" in LEC, but the perspectives espoused there will be the extent of the formal commentary and information regarding the coding topics we encounter in the Markov ChatBots code here._\n",
    ">     \n",
    "> _Unlike with the Monte Hall problem, we will not inquire with the ChatBot to see if it can suggest any streamlining, readability, or usability improvements to the alternative versions of the \"Markovian ChatBot code\" we're examining_\n",
    ">     \n",
    "> - _because doing so seems to result in the attempted creation of dubiously functional modular code with a focus on reusability (which is likely a result of ChatBot design being primarily a \"computer science\" topic), so ChatBot reponses here tend to orient around programming and system design principles (despite \"Markovian\" very much being a \"statistics\" topic)_\n",
    ">     \n",
    "> _Programming and system design principles are beyond the scope of STA130; but, they are critical for modern data science careers... if you are interested in pursuing a data science career, it is imperitive that you complete courses like CSC263, CSC373, and perhaps an additional \"systems design\" course_\n",
    "> \n",
    "> ---\n",
    "> \n",
    "> _Don't forget to ask for summaries of all your different ChatBot sessions and organize and paste these into your homework notebook (including link(s) to chat log histories if you're using ChatBot)_\n",
    "    \n",
    "</details>\n",
    "     "
   ]
  },
  {
   "cell_type": "markdown",
   "id": "110c54b8",
   "metadata": {},
   "source": [
    "In the interact with ChatGPT according to prompts 5.1 and 5.2, it figured out what the extensions in the code do and explained in detail the role of each part of the code. In the interact with ChatGPT according to prompt 5.3, although I skipped providing the code for #Markovian Chatbot Extension #1, and directly provided the more complex code for #Markovian Chatbot Extension #2. Without any additional prompts from me, ChatGPT still correctly understood the code that \"tracking two-word sequences and associating these sequences with a character from the dataset.\""
   ]
  },
  {
   "cell_type": "markdown",
   "id": "4301cc05",
   "metadata": {},
   "source": [
    "#### Q5.1 & Q 5.2"
   ]
  },
  {
   "cell_type": "markdown",
   "id": "3377ef0b",
   "metadata": {},
   "source": [
    "### ChatBot summaries\n",
    "link: https://chatgpt.com/share/66ecdb97-6e38-8006-a9ec-3debc0ff1e04\n",
    "\n",
    "Summary of Interactions:\n",
    "1. Markovian Chatbot (Initial Code): You provided code that builds a simple Markovian chatbot model using word sequences from a list of words. The code constructs two dictionaries:\n",
    "\n",
    "    word_used: Tracks how many times each word appears in the dataset.\n",
    "    \n",
    "    next_word: Tracks the word that follows a given word and counts how often each pair of consecutive words appears. I explained the logic of iterating through the words and updating these dictionaries to form the basis for a word-predicting chatbot.\n",
    "    \n",
    "2. Extension #1 (Two-Word Sequences): You extended the chatbot to work with two-word sequences (bigrams), rather than individual words. The new dictionaries, word_used2 and next_word2, now track sequences of two consecutive words and the words that follow them. This change makes the chatbot more context-aware. I provided a detailed explanation of how the bigrams are tracked and counted, making predictions based on pairs of words.\n",
    "\n",
    "3. Extension #2 (Character-Specific Dialogues): You added another layer of complexity by introducing character-specific models. In this version, word sequences are tracked separately for each character using a dataset called avatar. The code builds two nested dictionaries, word_used2C and next_word2C, to record the two-word sequences used by each character and the next words that follow them in dialogue. I explained how this version of the chatbot builds independent Markov models for each character, allowing it to simulate unique dialogue patterns for different speakers.\n",
    "\n",
    "4. Detailed Logic Clarification (Word Pair Initialization): You asked for a more detailed explanation of this part of the code:\n",
    "\n",
    "    python\n",
    "    Copy code\n",
    "    if word + ' ' + words[i+1] not in word_used2C[character]:\n",
    "    word_used2C[character][word + ' ' + words[i+1]] = 0\n",
    "    word_used2C[character][word + ' ' + words[i+1]] += 1\n",
    "    I clarified that this code:\n",
    "\n",
    "    Checks whether the word pair (bigram) exists for the character in the dictionary.\n",
    "    If it doesn’t exist, it initializes it with a count of 0.\n",
    "    Finally, it increments the count of that bigram, tracking how often the two-word sequence occurs in that character’s dialogue.\n",
    "\n",
    "5. Understanding \\n (Newline Character): You inquired about the purpose of \\n. I explained that it represents a newline character in Python, used to break text onto the next line. In your code, it ensures that character names in the avatar.character column are separated by new lines when processed."
   ]
  },
  {
   "cell_type": "markdown",
   "id": "7a4abfce",
   "metadata": {},
   "source": [
    "#### Q5.3"
   ]
  },
  {
   "cell_type": "markdown",
   "id": "d687d616",
   "metadata": {},
   "source": [
    "### ChatBot summaries\n",
    "link: https://chatgpt.com/share/66ecdd3f-908c-8006-bb1e-91876729a7ba\n",
    "\n",
    "Summary of Interactions:\n",
    "\n",
    "Initial Code for Markovian Chatbot:\n",
    "\n",
    "You presented a basic Markovian chatbot algorithm that creates a model based on a list of words. The code tracks the frequency of each word (word_used) and the probability of the next word (next_word) following the current word.\n",
    "I provided an optimization using defaultdict to streamline the process, eliminating the need for manual checks on dictionary keys.\n",
    "\n",
    "Extension for Markovian Chatbot:\n",
    "\n",
    "You introduced an extended version of the Markovian chatbot, incorporating two-word sequences and associating them with characters from a dataset (avatar.character).\n",
    "This extension tracks how frequently two-word sequences occur for each character and the probability of specific words following these sequences.\n",
    "I refactored the code to use setdefault and defaultdict more effectively, which streamlined the checks and made the code more concise while preserving its functionality.\n",
    "\n",
    "Discussion on Improvements:\n",
    "\n",
    "Throughout the exchanges, the focus was on improving efficiency and readability, using Python's defaultdict to simplify dictionary handling, removing redundant checks, and making the code more modular and structured.\n",
    "In each exchange, the goal was to progressively enhance the complexity of the chatbot while maintaining clean and efficient code. If this summary aligns with your expectations for submission, you're all set to go!"
   ]
  },
  {
   "cell_type": "markdown",
   "id": "116f0a96",
   "metadata": {},
   "source": [
    "#### 6. Report on your experience interacting with ChatBots to understand the Monte Hall problem and \"Markovian ChatBot\" code\n",
    "\n",
    "1. Discuss how quickly the ChatBot was able to be helpful for each of the above questions, and if so, how?<br><br>\n",
    "    \n",
    "2. Discuss whether or not interacting with ChatBot to try to figure things out was frustrating or unhelpful, and if so, how?<br><br>\n",
    "    \n",
    "3. Based on your experiences to date (e.g., including using ChatBots to troubleshoot coding errors in the previous homework), provide an overall assessment evaluating the usefulness of ChatBots as tools to help you understand code<br>"
   ]
  },
  {
   "cell_type": "markdown",
   "id": "50c20375",
   "metadata": {},
   "source": [
    "First of all, ChatGPT responded very quickly and helpfully to both of the questions above. It quickly gave a correct and detailed explanation of the problem and the code. When I asked for additional explanation of some parts of the code, its explanation was also detailed and provided additional examples.\n",
    "\n",
    "ChatGPT sometimes provides wrong, inconsistent, and confusing answers. However, such problems did not occur in the conversations for this assignment. All the conversations were efficient, useful, and direct. I think this is because we provided detailed code for both problems. The clear logic in the code made it easier for ChatGPT to understand what we wanted it to do compared to text.\n",
    "\n",
    "ChatGPT is a very practical tool to help me understand the code. I would give it 10 out of 10. First, it helps me understand the language structure of the code and the logic behind the code. Second, it helps me better understand a programming language, such as where the language has advantages over other languages, and what existing packages I can utilize. Third, it is also very efficient in solving code errors. Usually, we may need to spend a long time to fix errors, but ChatGPT gives potential places where errors may occur and provides solutions."
   ]
  },
  {
   "cell_type": "markdown",
   "id": "391d8bd5",
   "metadata": {},
   "source": [
    "#### No ChatBots were used."
   ]
  },
  {
   "cell_type": "markdown",
   "id": "4642d6c2",
   "metadata": {},
   "source": [
    "#### 7. Reflect on your experience interacting with ChatBot and describe how your perception of AI-driven assistance tools in the context of learning coding, statistics, and data science has been evolving (or not) since joining the course<br><br>\n",
    "\n",
    "<details class=\"details-example\"><summary style=\"color:blue\"><u>Further Guidance</u></summary>\n",
    "    \n",
    "> _Question \"7\" and the next question \"8\" are somewhat related to the first bullet point in the suggested interactions of the \"Afterword\" to the Homework from last week... consider reviewing that if you'd like a little extra orienting around what these questions are trying to have you explore_\n",
    "   \n",
    "</details>"
   ]
  },
  {
   "cell_type": "markdown",
   "id": "ada7ecb2",
   "metadata": {},
   "source": [
    "Before taking this course, I rarely used AI-driven assistance tools. My original view was that they would be very effective in improving learning, both in terms of quality and efficiency (spending less time to gain a deeper understanding of advanced knowledge). Since joining the course, I have had a more intuitive and profound understanding of their usefulness. Many problems would require a lot of time and a lot of research without AI-driven assistance tools, which not only wastes time, but may also reinforce your impression of wrong answers in the process. But with AI-driven assistance tools, I can more quickly access information on the topics I want to learn about, as well as additional content in related areas that I am interested in. Meanwhile, because it is so useful and efficient, there's a potential risk of becoming too reliant on AI for problem-solving, which might inhibit the development of independent critical thinking skills."
   ]
  },
  {
   "cell_type": "markdown",
   "id": "34f35404",
   "metadata": {},
   "source": [
    "#### No ChatBots were used."
   ]
  },
  {
   "cell_type": "markdown",
   "id": "500f440e",
   "metadata": {},
   "source": [
    "#### 8. ChatBots consume text data available on the web or platforms, and thus represents a new way to \"search consensensus\" that condenses and summarizes mainstream human thought<br><br>\n",
    "\n",
    "1. Start a new ChatBot session and discuss the relevance of learning and adaptability, communication, coding, and statistics and data analysis as skills in the modern world, especially with respect to career opportunities (particularly in the context of the data science industry)<br><br>\n",
    "    \n",
    "2. See if ChatBot thinks you could be a statistician or data scientist without coding or doing data analysis, and then transition your ChatBot conversation into a career exploration discussion, using the ChatBot to identify the skills that might be the most valuable for a career that you're interested<br><br>\n",
    "    \n",
    "3. Ask for a summary of this ChatBot session and paste it into your homework notebook (including link(s) to chat log histories if you're using ChatBot)<br><br>\n",
    "    \n",
    "4. Paraphrase the assessments and conclusions of your conversation in the form of a reflection on your current thoughts regarding your potential future career(s) and how you can go about building the skills you need to pursue it<br><br>\n",
    "\n",
    "5. Give your thoughts regarding the helpfulness or limitations of your conversation with a ChatBot, and describe the next steps you would take to pursue this conversation further if you felt the information the ChatBot provides was somewhat high level and general, and perhaps lacked the depth and detailed knowledge of a dedicated subject matter expert who had really take the time to understand the ins and outs of the industry and career path in question.\n",
    "<br><br>\n",
    "\n",
    "<details class=\"details-example\"><summary style=\"color:blue\"><u>Further Guidance</u></summary>\n",
    "\n",
    "> _While question 8 is not a part of the rubric, it is nonetheless a very good exercise that will likely be valuable for you if you engage it them sincerely_\n",
    "    \n",
    "</details>\n"
   ]
  },
  {
   "cell_type": "markdown",
   "id": "d1b601bf",
   "metadata": {},
   "source": [
    "#### Q8.1-8.3"
   ]
  },
  {
   "cell_type": "markdown",
   "id": "f554fa55",
   "metadata": {},
   "source": [
    "### ChatBot summaries\n",
    "link: https://chatgpt.com/share/66ece8ee-ad08-8006-a87f-e9ea205fd7c0\n",
    "\n",
    "Here is a summary of our exchanges related to your exploration of a career in data science:\n",
    "\n",
    "Initial Exploration of Skills for Data Science:\n",
    "\n",
    "You asked about the relevance of key skills in the modern world, particularly related to a career in data science. I discussed the importance of learning and adaptability, communication, coding, and statistics and data analysis. These skills are vital as they allow professionals to thrive in fast-changing environments and effectively apply data science techniques to solve problems.\n",
    "\n",
    "Exploring the Possibility of a Career in Data Science Without Coding or Data Analysis:\n",
    "\n",
    "You inquired whether it is possible to be a data scientist or statistician without coding or data analysis. I explained that while some roles in statistics or data science may not involve direct coding or data analysis (e.g., managerial or consulting roles), most positions in these fields require both skills. Coding and data analysis are integral to most modern data science and statistics jobs.\n",
    "\n",
    "Detailed Career Exploration in Data Science:\n",
    "\n",
    "At your request, I provided a comprehensive overview of career paths in data science. This included a discussion of core roles such as data scientist, data analyst, machine learning engineer, and data engineer. I outlined the skills required (e.g., programming, statistics, machine learning, and communication) and explored various industries that hire data scientists, including tech, finance, healthcare, and retail. I also highlighted the educational pathways and potential salary expectations for these roles.\n",
    "\n",
    "Top 3 Skills for a Data Science Career:\n",
    "\n",
    "You asked about the three most valuable skills for a career in data science. I identified programming proficiency (Python, R, SQL), statistical and analytical thinking, and data storytelling and communication as the top skills. These skills enable data scientists to handle data efficiently, build accurate models, and communicate findings in ways that influence business decisions.\n",
    "\n",
    "This summary captures our key discussions, emphasizing the skills, career opportunities, and considerations relevant to pursuing a career in data science. Let me know if you'd like to adjust or add more details!"
   ]
  },
  {
   "cell_type": "markdown",
   "id": "ae2b9372",
   "metadata": {},
   "source": [
    "#### Q8.4 "
   ]
  },
  {
   "cell_type": "markdown",
   "id": "5d51adfe",
   "metadata": {},
   "source": [
    "Reflecting on on my future in data science, I see how important it is to combine technical skills with real-world applications. While mastering algorithms and programming is essential, being able to analyze problems and communicate insights is equally important. I’ve learned that collaboration and continuous learning are key to growth in this field.\n",
    "\n",
    "To develop the skills I need, I will focus on perfecting my skills in machine learning and programming during my undergraduate studies while working on real-world projects and learning from peers and mentors. This combination will help me thrive and stay adaptable in the rapidly evolving world of data science."
   ]
  },
  {
   "cell_type": "markdown",
   "id": "4934f669",
   "metadata": {},
   "source": [
    "#### Q8.5"
   ]
  },
  {
   "cell_type": "markdown",
   "id": "4128890a",
   "metadata": {},
   "source": [
    "While conversations with ChatBot have been helpful in providing general insights and building a solid foundation for understanding the field of data science, I also recognize some limitations. The information tends to be high-level, providing a broad overview without delving into the details that subject matter experts can provide. ChatBot's responses are useful for identifying key concepts, but they lack real-world insights from industry professionals with deep, hands-on experience. \n",
    "\n",
    "To gain more detailed knowledge, I would connect with industry professionals, seek mentorship, and explore focused resources like case studies and workshops. These steps would give me deeper, real-world understanding of the data science field and its career paths."
   ]
  },
  {
   "cell_type": "markdown",
   "id": "b489452e",
   "metadata": {},
   "source": [
    "#### 9. Have you reviewed the course [wiki-textbook](https://github.com/pointOfive/stat130chat130/wiki) and interacted with a ChatBot (or, if that wasn't sufficient, real people in the course piazza discussion board or TA office hours) to help you understand all the material in the tutorial and lecture that you didn't quite follow when you first saw it?<br><br>\n",
    "  \n",
    "<details class=\"details-example\"><summary style=\"color:blue\"><u>Further Guidance</u></summary>\n",
    "    \n",
    "> _Just answering \"Yes\" or \"No\" or \"Somewhat\" or \"Mostly\" or whatever here is fine as this question isn't a part of the rubric; but, the midterm and final exams may ask questions that are based on the tutorial and lecture materials; and, your own skills will be limited by your familiarity with these materials (which will determine your ability to actually do actual things effectively with these skills... like the course project...)_\n",
    "    \n",
    "</details>"
   ]
  },
  {
   "cell_type": "markdown",
   "id": "848858fb",
   "metadata": {},
   "source": [
    "Yes, I did. I reviewed the course wiki-textbook, the course piazza discussion board. and ask ChatBot to explain code content and academic concepts."
   ]
  },
  {
   "cell_type": "code",
   "execution_count": null,
   "id": "16f95257fb4fda6c",
   "metadata": {},
   "outputs": [],
   "source": [
    "# Markovian Chatbot\n",
    "\n",
    "# from collections import defaultdict\n",
    "word_used = dict() # defaultdict(int)\n",
    "next_word = dict() # defaultdict(lambda: defaultdict(int))\n",
    "for i,word in enumerate(words[:-1]):\n",
    "\n",
    "    if word in word_used:\n",
    "        word_used[word] += 1\n",
    "    else:\n",
    "        word_used[word] = 1\n",
    "        next_word[word] = {}\n",
    "\n",
    "    if words[i+1] in next_word[word]:\n",
    "        next_word[word][words[i+1]] += 1\n",
    "    else:\n",
    "        next_word[word][words[i+1]] = 1"
   ]
  },
  {
   "cell_type": "code",
   "execution_count": null,
   "id": "bd0e5d2163411e8e",
   "metadata": {},
   "outputs": [],
   "source": [
    "# Markovian Chatbot Extension #1\n",
    "\n",
    "word_used2 = defaultdict(int)\n",
    "next_word2 = defaultdict(lambda: defaultdict(int))\n",
    "for i,word in enumerate(words[:-2]):\n",
    "    word_used2[word+' '+words[i+1]] += 1\n",
    "    next_word2[word+' '+words[i+1]][words[i+2]] += 1 "
   ]
  },
  {
   "cell_type": "code",
   "execution_count": null,
   "id": "33fe616edecddb60",
   "metadata": {},
   "outputs": [],
   "source": [
    "# Markovian Chatbot Extension #2\n",
    "\n",
    "from collections import Counter, defaultdict\n",
    "# `avatar` is a dataset, and `character` is one of it's columns\n",
    "characters = Counter(\"\\n\"+ avatar.character.str.upper().str.replace(' ','.')+\":\")\n",
    "# this code changes the type of the `character` column to `str`; then,\n",
    "# makes the text uppercase, and replaces spaces with '.'\n",
    "\n",
    "nested_dict = lambda: defaultdict(nested_dict)\n",
    "word_used2C = nested_dict()\n",
    "next_word2C = nested_dict()\n",
    "\n",
    "for i,word in enumerate(words[:-2]):\n",
    "    if word in characters:\n",
    "        character = word\n",
    "        \n",
    "    if character not in word_used2C:\n",
    "        word_used2C[character] = dict()\n",
    "    if word+' '+words[i+1] not in word_used2C[character]:\n",
    "        word_used2C[character][word+' '+words[i+1]] = 0\n",
    "    word_used2C[character][word+' '+words[i+1]] += 1\n",
    "    \n",
    "    if character not in next_word2C:\n",
    "        next_word2C[character] = dict()\n",
    "    if word+' '+words[i+1] not in next_word2C[character]:\n",
    "        next_word2C[character][word+' '+words[i+1]] = dict()\n",
    "    if words[i+2] not in next_word2C[character][word+' '+words[i+1]]:\n",
    "        next_word2C[character][word+' '+words[i+1]][words[i+2]] = 0\n",
    "    next_word2C[character][word+' '+words[i+1]][words[i+2]] += 1"
   ]
  },
  {
   "cell_type": "markdown",
   "id": "1ebfa9b9",
   "metadata": {},
   "source": [
    "## Recommended Additional Useful Activities [Optional]\n",
    "\n",
    "The \"Ethical Profesionalism Considerations\" and \"Current Course Project Capability Level\" sections below **are not a part of the required homework assignment**; rather, they are regular weekly guides covering (a) relevant considerations regarding professional and ethical conduct, and (b) the analysis steps for the STA130 course project that are feasible at the current stage of the course <br><br>\n",
    "\n",
    "\n",
    "<details class=\"details-example\"><summary style=\"color:blue\"><u>Ethical Professionalism Considerations</u></summary>\n",
    "\n",
    "### Ethical Professionalism Considerations\n",
    "\n",
    "    \n",
    "> 1. If you've not heard of the \"reproducibility crisis\" in science, have a ChatBot explain it to you\n",
    "> 2. If you've not heard of the \"open source software\" (versus proprietary software), have a ChatBot explain it to you\n",
    "> 3. \"Reproducibility\" can also be considered at the level of a given data analysis project: can others replicate the results of code or analysis that you've done?\n",
    ">    1. Discuss with a ChatBot how jupyter notebooks and github can be used facilitate transparency and reproducibility in data analysis\n",
    "> 4. Discuss with a ChatBot what the distinction is between replicability of scientific experiments, versus the replicability of a specific data analysis project, and what your responsibility as an analyst should be with respect to both\n",
    "> 5. Do you think proprietary (non \"open source software\") software, such as Microsoft Word, Outlook, and Copilot tends to result in high quality products?  \n",
    ">     1. Do you think software product monopolies (such as the UofT dependence on Microsoft products) makes the world a better place?\n",
    "</details>    \n",
    "\n",
    "<details class=\"details-example\"><summary style=\"color:blue\"><u>Current Course Project Capability Level</u></summary>\n",
    "\n",
    "### Current Course Project Capability Level\n",
    "   \n",
    "**Remember to abide by the [data use agreement](https://static1.squarespace.com/static/60283c2e174c122f8ebe0f39/t/6239c284d610f76fed5a2e69/1647952517436/Data+Use+Agreement+for+the+Canadian+Social+Connection+Survey.pdf) at all times.**\n",
    "\n",
    "Information about the course project is available on the course github repo [here](https://github.com/pointOfive/stat130chat130/tree/main/CP), including a draft [course project specfication](https://github.com/pointOfive/stat130chat130/blob/main/CP/STA130F23_course_project_specification.ipynb) (subject to change). \n",
    "- The Week 01 HW introduced [STA130F24_CourseProject.ipynb](https://github.com/pointOfive/stat130chat130/blob/main/CP/STA130F24_CourseProject.ipynb), and the [available variables](https://drive.google.com/file/d/1ISVymGn-WR1lcRs4psIym2N3or5onNBi/view). \n",
    "- Please do not download the [data](https://drive.google.com/file/d/1mbUQlMTrNYA7Ly5eImVRBn16Ehy9Lggo/view) accessible at the bottom of the [CSCS](https://casch.org/cscs) webpage (or the course github repo) multiple times.\n",
    "\n",
    "> At this point in the course you should be able to create a `for` loop to iterate through and provide **simple summaries** of some of the interesting columns in the course project data\n",
    ">\n",
    "> 1. Create two versions of the code, one for numeric and the other for categorical data,  which provide a printout format that displays relavent summaries and the missing data counts for a given set of (either numerical or categorical) columns being examined\n",
    ">\n",
    "> 2. Combine the two separate `for` loops into a single `for` loop using an `if`/`else` **conditional logic structure** that determines the correct printout format based on the data type of the column under consideration  \n",
    ">     1. *Being able to transform existing code so it's \"resuable\" for different purposes is one version of the programming design principle of \"polymorphism\" (which means \"many forms\" or \"many uses\") [as in the first task above]*\n",
    ">     2. *A better version of the programming design principle of \"polymorphism\" is when the same code can handle different use cases [as in the second tast above]*\n",
    ">     3. *Being able run your code with different subsets of columns as interest in different variables changes is a final form of the programming design principle of \"polymorphism\" that's demonstrated through this exercise*   \n",
    "    \n",
    "</details>        "
   ]
  }
 ],
 "metadata": {
  "kernelspec": {
   "display_name": "Python 3 (ipykernel)",
   "language": "python",
   "name": "python3"
  },
  "language_info": {
   "codemirror_mode": {
    "name": "ipython",
    "version": 3
   },
   "file_extension": ".py",
   "mimetype": "text/x-python",
   "name": "python",
   "nbconvert_exporter": "python",
   "pygments_lexer": "ipython3",
   "version": "3.11.6"
  }
 },
 "nbformat": 4,
 "nbformat_minor": 5
}
