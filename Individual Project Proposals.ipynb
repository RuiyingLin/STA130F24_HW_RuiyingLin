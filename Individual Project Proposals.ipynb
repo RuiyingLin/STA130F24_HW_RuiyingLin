{
 "cells": [
  {
   "cell_type": "markdown",
   "id": "0b519ec5-c4d0-4980-b2fd-f9f19b5bd2e0",
   "metadata": {},
   "source": [
    "The first research question investigates how social engagement impacts well-being could offer valuable insights for community health interventions. Specifically, this question examines whether individuals who report a higher frequency of meaningful interactions also report better mental health among participants in the Canadian Social Connection Survey (CSCS). \n",
    "\n",
    "The analysis will focus on two key variables: CONNECTION_meaningful_interactions as the predictor and WELLNESS_self_rated_mental_health as the outcome. CONNECTION_meaningful_interactions captures how often participants engage in meaningful social interactions, serving as an indicator of both the quality and frequency of their social engagement. WELLNESS_self_rated_mental_health reflects participants' self-assessed mental health status, providing a subjective measure of their current well-being. To effectively visualize these variables, a histogram will be used for the predictor and a boxplot for the outcome. The histogram for the predictor will display how frequently respondents report meaningful interactions, highlighting the distribution and any skewness or outliers. This can reveal if most participants engage in high or low levels of interaction and may show differing mental health trends based on interaction frequency. For the outcome, a boxplot will illustrate the distribution of mental health ratings, emphasizing the median, interquartile range, and any extreme values. This provides a concise overview of self-reported well-being, setting a foundation for further analysis.\n",
    "\n",
    "To determine if there is a significant relationship between meaningful interaction frequency and mental health, I will apply a Simple Linear Regression model. This model is suitable as it assesses whether changes in frequency of meaningful interactions can predict variations in mental health ratings, assuming key assumptions—linearity, independence, homoscedasticity, and normality of residuals—are met.\n",
    "\n",
    "The null hypothesis (H₀) posits that there is no relationship between meaningful social interaction frequency and mental health, with a slope of zero, while the alternative hypothesis (H₁) proposes that a meaningful relationship exists, indicated by a non-zero slope. A statistically significant positive slope would suggest that frequent meaningful interactions are associated with higher mental health ratings, underscoring the importance of social engagement for well-being. Conversely, if no significant relationship is found, this might indicate that other factors play a larger role in determining mental health, guiding future research to consider additional variables.\n",
    "\n",
    "The second research question seeks to determine if individuals who report higher levels of perceived social support also report better mental health outcomes. This question directly connects to the CSCS data’s focus on social support and mental health, making it possible to examine how varying levels of support impact well-being.\n",
    "\n",
    "The analysis will focus on two key variables: PSYCH_zimet_multidimensional_social_support_scale_score as the predictor, which provides a composite score of perceived social support from family, friends, and significant others, and WELLNESS_self_rated_mental_health as the outcome variable, capturing participants' self-assessed mental health status. To visually explore these variables, a histogram will display the distribution of social support scores across participants, showing how perceived support levels vary within the population. While a boxplot will represent the central tendency and variability of self-rated mental health scores, highlighting the median, interquartile range, and any outliers.\n",
    "\n",
    "For statistical analysis, I will employ a One-Way Analysis of Variance to determine whether there are significant differences in mental health ratings across different levels of social support. This method is suitable as it allows us to compare mean mental health ratings between groups, revealing if social support significantly impacts mental health.\n",
    "\n",
    "The null hypothesis (H₀) suggests there are no differences in mental health ratings across different levels of social support, while the alternative hypothesis (H₁) proposes that significant differences do exist, indicating that social support levels affect mental health.\n",
    "\n",
    "The third research question investigates whether satisfaction with romantic relationships influences self-reported mental health among participants in the CSCS data.\n",
    "\n",
    "The analysis will focus on two key variables: WELLNESS_satisfied_relationship as the predictor, which assesses overall satisfaction with romantic relationships (accounting for multiple relationships if applicable) as an indicator of relationship quality, and WELLNESS_self_rated_mental_health as the outcome, representing a self-reported measure of mental health status. To visualize these variables, a histogram will show the distribution of satisfaction levels with romantic relationships, highlighting common satisfaction ratings and any skewness, while a boxplot for mental health will illustrate central tendency and variability, providing a foundational overview of mental health ratings.\n",
    "\n",
    "For statistical analysis, a Simple Linear Regression model will be used to determine if satisfaction with romantic relationships significantly predicts mental health ratings. This model assesses whether variations in relationship satisfaction correlate with shifts in mental health ratings, assuming key assumptions—linearity, independence, homoscedasticity, and normality of residuals—are met.\n",
    "\n",
    "The null hypothesis (H₀) posits no relationship between romantic relationship satisfaction and mental health (slope = 0), while the alternative hypothesis (H₁) suggests a significant association. A positive slope would imply that higher satisfaction in romantic relationships correlates with better mental health, emphasizing the importance of relationship quality for well-being. A non-significant result, however, may indicate that other factors more strongly influence mental health, suggesting avenues for future exploration.\n",
    "\n",
    "Together, these analyses offer a multidimensional perspective on social connection’s impact on mental health, which is both academically valuable and practically applicable. Positive findings across these questions would suggest that both the frequency and quality of social interactions, as well as levels of social support, play essential roles in mental health.\n",
    "\n",
    "Preferred team members: Ruiying Lin, Yichen Lou, Xunqi Lu, Chenxuan (Oscar) Xie"
   ]
  }
 ],
 "metadata": {
  "kernelspec": {
   "display_name": "Python 3 (ipykernel)",
   "language": "python",
   "name": "python3"
  },
  "language_info": {
   "codemirror_mode": {
    "name": "ipython",
    "version": 3
   },
   "file_extension": ".py",
   "mimetype": "text/x-python",
   "name": "python",
   "nbconvert_exporter": "python",
   "pygments_lexer": "ipython3",
   "version": "3.11.7"
  }
 },
 "nbformat": 4,
 "nbformat_minor": 5
}
